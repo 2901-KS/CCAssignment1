{
  "nbformat": 4,
  "nbformat_minor": 0,
  "metadata": {
    "colab": {
      "provenance": []
    },
    "kernelspec": {
      "name": "python3",
      "display_name": "Python 3"
    },
    "language_info": {
      "name": "python"
    }
  },
  "cells": [
    {
      "cell_type": "code",
      "source": [
        "import numpy as np\n",
        "arr=np.array([1,2,3,4,5])\n",
        "print(arr)\n",
        "#class practice"
      ],
      "metadata": {
        "colab": {
          "base_uri": "https://localhost:8080/"
        },
        "id": "gHrGTnxftin0",
        "outputId": "d67c4221-1730-495d-904d-941ab84f413b"
      },
      "execution_count": 1,
      "outputs": [
        {
          "output_type": "stream",
          "name": "stdout",
          "text": [
            "[1 2 3 4 5]\n"
          ]
        }
      ]
    },
    {
      "cell_type": "code",
      "source": [
        "#Question 1\n",
        "import numpy as np\n",
        "arr1 = np.array([1, 2, 3, 4, 5])\n",
        "print(\"Original Array:\", arr1)\n",
        "print(\"Addition of 2:\", arr1 + 2)\n",
        "print(\"Multiply by 3:\", arr1 * 3)\n",
        "print(\"Divide by 2:\", arr1 / 2)"
      ],
      "metadata": {
        "colab": {
          "base_uri": "https://localhost:8080/"
        },
        "id": "dRXe7eE-lHMw",
        "outputId": "a752fff2-cd44-441a-b055-fe6dee1b9283"
      },
      "execution_count": 2,
      "outputs": [
        {
          "output_type": "stream",
          "name": "stdout",
          "text": [
            "Original Array: [1 2 3 4 5]\n",
            "Addition of 2: [3 4 5 6 7]\n",
            "Multiply by 3: [ 3  6  9 12 15]\n",
            "Divide by 2: [0.5 1.  1.5 2.  2.5]\n"
          ]
        }
      ]
    },
    {
      "cell_type": "code",
      "source": [
        "#2 a\n",
        "import numpy as np\n",
        "arr2 = np.array([1, 2, 3, 6, 4, 5])\n",
        "print(\"Original Array:\", arr2)\n",
        "print(\"Reversed Array:\", arr2[::-1])"
      ],
      "metadata": {
        "colab": {
          "base_uri": "https://localhost:8080/"
        },
        "id": "LxAA_lyElNsQ",
        "outputId": "0f28face-0462-44db-f22e-0120510392de"
      },
      "execution_count": 3,
      "outputs": [
        {
          "output_type": "stream",
          "name": "stdout",
          "text": [
            "Original Array: [1 2 3 6 4 5]\n",
            "Reversed Array: [5 4 6 3 2 1]\n"
          ]
        }
      ]
    },
    {
      "cell_type": "code",
      "source": [
        "#2 b\n",
        "import numpy as np\n",
        "\n",
        "x = np.array([1,2,3,4,5,1,2,1,1,1])\n",
        "y = np.array([1, 1, 1, 2, 3, 4, 2, 4, 3, 3, ])\n",
        "\n",
        "def most_frequent(arr):\n",
        "  values, counts = np.unique(arr, return_counts=True)\n",
        "  max_count_index = np.argmax(counts)\n",
        "  most_frequent_value = values[max_count_index]\n",
        "  indices = np.where(arr == most_frequent_value)[0]\n",
        "  return most_frequent_value, indices\n",
        "\n",
        "most_frequent_x, indices_x = most_frequent(x)\n",
        "print(f\"Most frequent value in x: {most_frequent_x}, indices: {indices_x}\")\n",
        "\n",
        "most_frequent_y, indices_y = most_frequent(y)\n",
        "print(f\"Most frequent value in y: {most_frequent_y}, indices: {indices_y}\")"
      ],
      "metadata": {
        "colab": {
          "base_uri": "https://localhost:8080/"
        },
        "id": "DENoqn0In_xf",
        "outputId": "27cead77-e581-4056-bec1-30eed1cd6c81"
      },
      "execution_count": 10,
      "outputs": [
        {
          "output_type": "stream",
          "name": "stdout",
          "text": [
            "Most frequent value in x: 1, indices: [0 5 7 8 9]\n",
            "Most frequent value in y: 1, indices: [0 1 2]\n"
          ]
        }
      ]
    },
    {
      "cell_type": "code",
      "source": [
        "#3\n",
        "import numpy as np\n",
        "arr = np.array([[10, 20, 30], [40, 50, 60], [70, 80, 90]])\n",
        "a = arr[0, 1]\n",
        "b = arr[2, 0]\n",
        "print(\"Element at 1st row, 2nd column:\", a)\n",
        "print(\"Element at 3rd row, 1st column:\", b)\n"
      ],
      "metadata": {
        "colab": {
          "base_uri": "https://localhost:8080/"
        },
        "id": "nDPWVXSmoCGb",
        "outputId": "c739f7ff-dbe5-4f56-aa57-fac49adfd39d"
      },
      "execution_count": 12,
      "outputs": [
        {
          "output_type": "stream",
          "name": "stdout",
          "text": [
            "Element at 1st row, 2nd column: 20\n",
            "Element at 3rd row, 1st column: 70\n"
          ]
        }
      ]
    },
    {
      "cell_type": "code",
      "source": [
        "#4\n",
        "import numpy as np\n",
        "K=np.linspace(10,100,10)\n",
        "print(\"Array:\",K)\n",
        "print(\"Dimensions:\",K.ndim)\n",
        "print(\"Shape:\", K.shape)\n",
        "print(\"Total elements:\", K.size)\n",
        "print(\"Data type:\", K.dtype)\n",
        "print(\"Total bytes consumed:\", K.nbytes)\n",
        "transpose = K.reshape(10, 1)\n",
        "print(\"Transposed Array:\\n\", transpose)\n",
        "print(\"We cannot use T attribute because T attribute works on 2-D arrays.\")\n",
        "\n"
      ],
      "metadata": {
        "colab": {
          "base_uri": "https://localhost:8080/"
        },
        "id": "ndgI9foovdil",
        "outputId": "880ce564-6833-4aee-cc56-95f3a685978e"
      },
      "execution_count": 7,
      "outputs": [
        {
          "output_type": "stream",
          "name": "stdout",
          "text": [
            "Array: [ 10.  20.  30.  40.  50.  60.  70.  80.  90. 100.]\n",
            "Dimensions: 1\n",
            "Shape: (10,)\n",
            "Total elements: 10\n",
            "Data type: float64\n",
            "Total bytes consumed: 80\n",
            "Transposed Array:\n",
            " [[ 10.]\n",
            " [ 20.]\n",
            " [ 30.]\n",
            " [ 40.]\n",
            " [ 50.]\n",
            " [ 60.]\n",
            " [ 70.]\n",
            " [ 80.]\n",
            " [ 90.]\n",
            " [100.]]\n",
            "We cannot use T attribute because T attribute works on 2-D arrays.\n"
          ]
        }
      ]
    },
    {
      "cell_type": "code",
      "source": [
        "#5\n",
        "import numpy as np\n",
        "ucs420_kinjal = np.array([[10, 20, 30, 40], [50, 60, 70, 80], [90, 15, 20, 35]])\n",
        "print(\"Mean:\", np.mean(ucs420_kinjal))\n",
        "print(\"Median:\", np.median(ucs420_kinjal))\n",
        "print(\"Max:\", np.max(ucs420_kinjal))\n",
        "print(\"Min:\", np.min(ucs420_kinjal))\n",
        "print(\"Unique Elements:\", np.unique(ucs420_kinjal))\n",
        "reshaped_ucs420_kinjal = ucs420_kinjal.reshape(4, 3)\n",
        "print(\"Reshaped Array:\\n\", reshaped_ucs420_kinjal)\n",
        "resized_ucs420_kinjal = np.resize(ucs420_kinjal, (2, 3))\n",
        "print(\"Resized Array:\\n\", resized_ucs420_kinjal)"
      ],
      "metadata": {
        "colab": {
          "base_uri": "https://localhost:8080/"
        },
        "id": "TwDMZPk8nV20",
        "outputId": "a42a70f9-4fd4-4b72-c7d6-a303a88ae310"
      },
      "execution_count": 8,
      "outputs": [
        {
          "output_type": "stream",
          "name": "stdout",
          "text": [
            "Mean: 43.333333333333336\n",
            "Median: 37.5\n",
            "Max: 90\n",
            "Min: 10\n",
            "Unique Elements: [10 15 20 30 35 40 50 60 70 80 90]\n",
            "Reshaped Array:\n",
            " [[10 20 30]\n",
            " [40 50 60]\n",
            " [70 80 90]\n",
            " [15 20 35]]\n",
            "Resized Array:\n",
            " [[10 20 30]\n",
            " [40 50 60]]\n"
          ]
        }
      ]
    }
  ]
}