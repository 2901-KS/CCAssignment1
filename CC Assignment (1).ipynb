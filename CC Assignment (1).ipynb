{
  "metadata": {
    "kernelspec": {
      "name": "python",
      "display_name": "Python (Pyodide)",
      "language": "python"
    },
    "language_info": {
      "codemirror_mode": {
        "name": "python",
        "version": 3
      },
      "file_extension": ".py",
      "mimetype": "text/x-python",
      "name": "python",
      "nbconvert_exporter": "python",
      "pygments_lexer": "ipython3",
      "version": "3.8"
    }
  },
  "nbformat_minor": 4,
  "nbformat": 4,
  "cells": [
    {
      "cell_type": "code",
      "source": "print(\"Anything you find cool\")",
      "metadata": {
        "trusted": true
      },
      "outputs": [
        {
          "name": "stdout",
          "text": "Anything you find cool\n",
          "output_type": "stream"
        }
      ],
      "execution_count": 1
    },
    {
      "cell_type": "code",
      "source": "# Program to add two numbers\nnum1 = 15\nnum2 = 10\nresult = num1 + num2\nprint(\"The result is:\", result)\n",
      "metadata": {
        "trusted": true
      },
      "outputs": [
        {
          "name": "stdout",
          "text": "The result is: 25\n",
          "output_type": "stream"
        }
      ],
      "execution_count": 3
    },
    {
      "cell_type": "code",
      "source": "# Program to concatenate two strings\nstr1 = \"Hello!\"\nstr2 = \"Pleasure to meet you\"\nresult = str1 + \" \" + str2\nprint(\"Concatenated String:\", result)\n",
      "metadata": {
        "trusted": true
      },
      "outputs": [
        {
          "name": "stdout",
          "text": "Concatenated String: Hello! Pleasure to meet you\n",
          "output_type": "stream"
        }
      ],
      "execution_count": 5
    },
    {
      "cell_type": "code",
      "source": "# Program to concatenate a string and a number\nstr1 = \"The number is\"\nnum = 55\nresult = str1 + \" \" + str(num)\nprint(\"Concatenated Result:\", result)\n",
      "metadata": {
        "trusted": true
      },
      "outputs": [
        {
          "name": "stdout",
          "text": "Concatenated Result: The number is 55\n",
          "output_type": "stream"
        }
      ],
      "execution_count": 6
    },
    {
      "cell_type": "code",
      "source": "x = 100\nif x > 0:\n    print(\"Positive\")\nelif x < 0:\n    print(\"Negative\")\nelse:\n    print(\"Zero\")",
      "metadata": {
        "trusted": true
      },
      "outputs": [
        {
          "name": "stdout",
          "text": "Positive\n",
          "output_type": "stream"
        }
      ],
      "execution_count": 12
    },
    {
      "cell_type": "code",
      "source": "# Program to check if a number is odd or even\nnum = 20\n\nif num % 2 == 0:\n    print(\"The number is even.\")\nelse:\n    print(\"The number is odd.\")\n",
      "metadata": {
        "trusted": true
      },
      "outputs": [
        {
          "name": "stdout",
          "text": "The number is even.\n",
          "output_type": "stream"
        }
      ],
      "execution_count": 11
    },
    {
      "cell_type": "code",
      "source": "# Program to print numbers from 1 to 10 using a for loop\nfor num in range(1, 11):\n    print(num)\n",
      "metadata": {
        "trusted": true
      },
      "outputs": [
        {
          "name": "stdout",
          "text": "1\n2\n3\n4\n5\n6\n7\n8\n9\n10\n",
          "output_type": "stream"
        }
      ],
      "execution_count": 13
    },
    {
      "cell_type": "code",
      "source": "# Program to print numbers from 1 to 10 using a while loop\nnum = 1\nwhile num <= 10:\n    print(num)\n    num += 1\n",
      "metadata": {
        "trusted": true
      },
      "outputs": [
        {
          "name": "stdout",
          "text": "1\n2\n3\n4\n5\n6\n7\n8\n9\n10\n",
          "output_type": "stream"
        }
      ],
      "execution_count": 14
    },
    {
      "cell_type": "code",
      "source": "# Program to calculate the sum of numbers from 1 to 100 using a loop\ntotal = 0\nfor num in range(1, 101):\n    total += num\nprint(\"The sum is:\", total)\n",
      "metadata": {
        "trusted": true
      },
      "outputs": [
        {
          "name": "stdout",
          "text": "The sum is: 5050\n",
          "output_type": "stream"
        }
      ],
      "execution_count": 15
    },
    {
      "cell_type": "code",
      "source": "# Program to find the largest and smallest numbers in the list\nnumbers = [3, 7, 2, 9, 5]\nlargest = max(numbers)\nsmallest = min(numbers)\nprint(\"Largest number:\", largest)\nprint(\"Smallest number:\", smallest)\n",
      "metadata": {
        "trusted": true
      },
      "outputs": [
        {
          "name": "stdout",
          "text": "Largest number: 9\nSmallest number: 2\n",
          "output_type": "stream"
        }
      ],
      "execution_count": 16
    },
    {
      "cell_type": "code",
      "source": "# Program to retrieve the value of a given key from a dictionary\nmy_dict = {\"name\": \"John\", \"age\": 25, \"city\": \"New York\"}\nkey = \"age\"\nprint(f\"The value of '{key}' is:\", my_dict[key])\n",
      "metadata": {
        "trusted": true
      },
      "outputs": [
        {
          "name": "stdout",
          "text": "The value of 'age' is: 25\n",
          "output_type": "stream"
        }
      ],
      "execution_count": 17
    },
    {
      "cell_type": "code",
      "source": "# Program to sort a list in ascending and descending order\nnumbers = [5, 2, 9, 1, 7]\nascending = sorted(numbers)\ndescending = sorted(numbers, reverse=True)\n\nprint(\"Sorted in ascending order:\", ascending)\nprint(\"Sorted in descending order:\", descending)\n",
      "metadata": {
        "trusted": true
      },
      "outputs": [
        {
          "name": "stdout",
          "text": "Sorted in ascending order: [1, 2, 5, 7, 9]\nSorted in descending order: [9, 7, 5, 2, 1]\n",
          "output_type": "stream"
        }
      ],
      "execution_count": 18
    },
    {
      "cell_type": "code",
      "source": "# Program to merge two dictionaries into one\ndict1 = {\"a\": 1, \"b\": 2}\ndict2 = {\"c\": 3, \"d\": 4}\nmerged_dict = {**dict1, **dict2}\nprint(\"Merged Dictionary:\", merged_dict)\n",
      "metadata": {
        "trusted": true
      },
      "outputs": [
        {
          "name": "stdout",
          "text": "Merged Dictionary: {'a': 1, 'b': 2, 'c': 3, 'd': 4}\n",
          "output_type": "stream"
        }
      ],
      "execution_count": 19
    },
    {
      "cell_type": "code",
      "source": "# Program to count the number of vowels in a string\nstring = \"Smile\"\nvowels = \"aeiouAEIOU\"\ncount = sum(1 for char in string if char in vowels)\nprint(\"Number of vowels:\", count)\n",
      "metadata": {
        "trusted": true
      },
      "outputs": [
        {
          "name": "stdout",
          "text": "Number of vowels: 2\n",
          "output_type": "stream"
        }
      ],
      "execution_count": 25
    },
    {
      "cell_type": "code",
      "source": "string =\"Hello\"\nreversed_string = string[::-1]\nprint(\"Reversed string:\", reversed_string)\n",
      "metadata": {
        "trusted": true
      },
      "outputs": [
        {
          "name": "stdout",
          "text": "Reversed string: olleH\n",
          "output_type": "stream"
        }
      ],
      "execution_count": 24
    },
    {
      "cell_type": "code",
      "source": "# Program to check if a string is a palindrome\nstring = \"MOM\"\nif string == string[::-1]:\n    print(\"The string is a palindrome.\")\nelse:\n    print(\"The string is not a palindrome.\")\n",
      "metadata": {
        "trusted": true
      },
      "outputs": [
        {
          "name": "stdout",
          "text": "The string is a palindrome.\n",
          "output_type": "stream"
        }
      ],
      "execution_count": 26
    },
    {
      "cell_type": "code",
      "source": "# Program to create a file, write text, and read it\nwith open(\"example.txt\", \"w\") as file:\n    file.write(\"This is a sample text file.\\nHello, World!\")\n\nwith open(\"example.txt\", \"r\") as file:\n    content = file.read()\n    print(\"File Content:\\n\", content)\n",
      "metadata": {
        "trusted": true
      },
      "outputs": [
        {
          "name": "stdout",
          "text": "File Content:\n This is a sample text file.\nHello, World!\n",
          "output_type": "stream"
        }
      ],
      "execution_count": 27
    },
    {
      "cell_type": "code",
      "source": "# Program to append text to an existing file\nwith open(\"example.txt\", \"a\") as file:\n    file.write(\"\\nThis is an appended line.\")\n\nwith open(\"example.txt\", \"r\") as file:\n    updated_content = file.read()\n    print(\"Updated File Content:\\n\", updated_content)\n",
      "metadata": {
        "trusted": true
      },
      "outputs": [
        {
          "name": "stdout",
          "text": "Updated File Content:\n This is a sample text file.\nHello, World!\nThis is an appended line.\n",
          "output_type": "stream"
        }
      ],
      "execution_count": 28
    },
    {
      "cell_type": "code",
      "source": "# Program to count the number of lines in a file\nwith open(\"example.txt\", \"r\") as file:\n    lines = file.readlines()\n    print(\"Number of lines:\", len(lines))\n",
      "metadata": {
        "trusted": true
      },
      "outputs": [
        {
          "name": "stdout",
          "text": "Number of lines: 3\n",
          "output_type": "stream"
        }
      ],
      "execution_count": 29
    },
    {
      "cell_type": "code",
      "source": "# Program to handle division by zero\ntry:\n    numerator = 15\n    denominator = 0\n    result = numerator / denominator\n    print(\"Result:\", result)\nexcept ZeroDivisionError:\n    print(\"Error: Division by zero is not allowed.\")\n",
      "metadata": {
        "trusted": true
      },
      "outputs": [
        {
          "name": "stdout",
          "text": "Error: Division by zero is not allowed.\n",
          "output_type": "stream"
        }
      ],
      "execution_count": 31
    },
    {
      "cell_type": "code",
      "source": "# Program to handle invalid input\ntry:\n    num = 10\n    print(\"You entered:\", num)\nexcept ValueError:\n    print(\"Error: Invalid input. Please enter a number.\")\n",
      "metadata": {
        "trusted": true
      },
      "outputs": [
        {
          "name": "stdout",
          "text": "You entered: 10\n",
          "output_type": "stream"
        }
      ],
      "execution_count": 35
    },
    {
      "cell_type": "code",
      "source": "# Program to demonstrate `finally`\ntry:\n    num = 100\n    print(\"You entered:\", num)\nexcept ValueError:\n    print(\"Error: Invalid input.\")\nfinally:\n    print(\"Execution complete.\")\n",
      "metadata": {
        "trusted": true
      },
      "outputs": [
        {
          "name": "stdout",
          "text": "You entered: 100\nExecution complete.\n",
          "output_type": "stream"
        }
      ],
      "execution_count": 36
    },
    {
      "cell_type": "code",
      "source": "import random\n\n# Program to generate 5 random numbers\nrandom_numbers = [random.randint(1, 100) for _ in range(5)]\nprint(\"Random Numbers:\", random_numbers)\n",
      "metadata": {
        "trusted": true
      },
      "outputs": [
        {
          "name": "stdout",
          "text": "Random Numbers: [89, 73, 80, 2, 50]\n",
          "output_type": "stream"
        }
      ],
      "execution_count": 37
    },
    {
      "cell_type": "code",
      "source": "import random\n\n# Program to check if a random number is prime\ndef is_prime(num):\n    if num < 2:\n        return False\n    for i in range(2, int(num**0.5) + 1):\n        if num % i == 0:\n            return False\n    return True\n\nrandom_number = random.randint(1, 100)\nprint(f\"Random Number: {random_number}\")\nif is_prime(random_number):\n    print(\"The number is prime.\")\nelse:\n    print(\"The number is not prime.\")\n",
      "metadata": {
        "trusted": true
      },
      "outputs": [
        {
          "name": "stdout",
          "text": "Random Number: 16\nThe number is not prime.\n",
          "output_type": "stream"
        }
      ],
      "execution_count": 38
    },
    {
      "cell_type": "code",
      "source": "import random\n\n# Program to simulate rolling a six-sided die\ndie_roll = random.randint(1, 6)\nprint(\"You rolled a:\", die_roll)\n",
      "metadata": {
        "trusted": true
      },
      "outputs": [
        {
          "name": "stdout",
          "text": "You rolled a: 5\n",
          "output_type": "stream"
        }
      ],
      "execution_count": 39
    },
    {
      "cell_type": "code",
      "source": "import random\n\n# Program to shuffle a list\nnumbers = [1, 2, 3, 4, 5, 6, 7, 8, 9, 10]\nrandom.shuffle(numbers)\nprint(\"Shuffled List:\", numbers)\n",
      "metadata": {
        "trusted": true
      },
      "outputs": [
        {
          "name": "stdout",
          "text": "Shuffled List: [2, 1, 6, 3, 4, 7, 5, 9, 10, 8]\n",
          "output_type": "stream"
        }
      ],
      "execution_count": 40
    },
    {
      "cell_type": "code",
      "source": "import random\n\n# Program to select a random item from a list\nitems = [\"apple\", \"banana\", \"cherry\", \"date\", \"elderberry\"]\nselected_item = random.choice(items)\nprint(\"Selected Item:\", selected_item)\n",
      "metadata": {
        "trusted": true
      },
      "outputs": [
        {
          "name": "stdout",
          "text": "Selected Item: elderberry\n",
          "output_type": "stream"
        }
      ],
      "execution_count": 41
    },
    {
      "cell_type": "code",
      "source": "import random\nimport string\n\n# Program to generate a random password\nlength =10\npassword = ''.join(random.choices(string.ascii_letters + string.digits + string.punctuation, k=length))\nprint(\"Generated Password:\", password)\n",
      "metadata": {
        "trusted": true
      },
      "outputs": [
        {
          "name": "stdout",
          "text": "Generated Password: Xbf3}|oQ{/\n",
          "output_type": "stream"
        }
      ],
      "execution_count": 43
    },
    {
      "cell_type": "code",
      "source": "import random\n\n# Program to pick a random card from a deck\nsuits = ['Hearts', 'Diamonds', 'Clubs', 'Spades']\nranks = ['2', '3', '4', '5', '6', '7', '8', '9', '10', 'Jack', 'Queen', 'King', 'Ace']\ndeck = [f\"{rank} of {suit}\" for suit in suits for rank in ranks]\n\nselected_card = random.choice(deck)\nprint(\"Selected Card:\", selected_card)\n",
      "metadata": {
        "trusted": true
      },
      "outputs": [
        {
          "name": "stdout",
          "text": "Selected Card: 3 of Hearts\n",
          "output_type": "stream"
        }
      ],
      "execution_count": 44
    },
    {
      "cell_type": "code",
      "source": "import sys\n\n# Program to add two numbers from command-line arguments\nif len(sys.argv) == 3:  # Ensure two arguments are passed\n    num1 = int(sys.argv[1])\n    num2 = int(sys.argv[2])\n    print(\"The sum is:\", num1 + num2)\nelse:\n    print(\"Usage: python script.py <num1> <num2>\")\n",
      "metadata": {
        "trusted": true
      },
      "outputs": [
        {
          "name": "stdout",
          "text": "Usage: python script.py <num1> <num2>\n",
          "output_type": "stream"
        }
      ],
      "execution_count": 45
    },
    {
      "cell_type": "code",
      "source": "import sys\n\n# Program to calculate the length of a string from command-line arguments\nif len(sys.argv) == 2:  # Ensure one argument is passed\n    input_string = sys.argv[1]\n    print(\"The length of the string is:\", len(input_string))\nelse:\n    print(\"Usage: python script.py <string>\")\n",
      "metadata": {
        "trusted": true
      },
      "outputs": [
        {
          "name": "stdout",
          "text": "Usage: python script.py <string>\n",
          "output_type": "stream"
        }
      ],
      "execution_count": 46
    },
    {
      "cell_type": "code",
      "source": "import math\n\n# Program to calculate the square root of a number\nnum = 20.56\nsqrt_result = math.sqrt(num)\nprint(\"The square root of\", num, \"is:\", sqrt_result)\n",
      "metadata": {
        "trusted": true
      },
      "outputs": [
        {
          "name": "stdout",
          "text": "The square root of 20.56 is: 4.534313619501853\n",
          "output_type": "stream"
        }
      ],
      "execution_count": 48
    },
    {
      "cell_type": "code",
      "source": "",
      "metadata": {
        "trusted": true
      },
      "outputs": [],
      "execution_count": null
    }
  ]
}