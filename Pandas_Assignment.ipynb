{
  "nbformat": 4,
  "nbformat_minor": 0,
  "metadata": {
    "colab": {
      "provenance": []
    },
    "kernelspec": {
      "name": "python3",
      "display_name": "Python 3"
    },
    "language_info": {
      "name": "python"
    }
  },
  "cells": [
    {
      "cell_type": "code",
      "source": [
        "import pandas as pd\n",
        "data={\"Date\":[\"20.01.2025\",\"21.01.2025\",\"22.01.2025\",\"23.01.2025\",\"24.01.2025\"],\n",
        "      \"Day\": [\"Monday\",\"Tuesday\",\"Wednesday\",\"Thursday\",\"Friday\"],\n",
        "      \"Hours worked\":[10,7,8,9,10],\n",
        "      \"Productivity\":[3,4,5,5,2]}\n",
        "df=pd.DataFrame(data)\n",
        "print(df)\n",
        "average=df[\"Productivity\"].mean()\n",
        "print(average)\n",
        "#Class question"
      ],
      "metadata": {
        "colab": {
          "base_uri": "https://localhost:8080/"
        },
        "id": "IG58V9Z2knqW",
        "outputId": "acfff7e4-3f18-4b49-9d7b-4fdc278c7f73"
      },
      "execution_count": 6,
      "outputs": [
        {
          "output_type": "stream",
          "name": "stdout",
          "text": [
            "         Date        Day  Hours worked  Productivity\n",
            "0  20.01.2025     Monday            10             3\n",
            "1  21.01.2025    Tuesday             7             4\n",
            "2  22.01.2025  Wednesday             8             5\n",
            "3  23.01.2025   Thursday             9             5\n",
            "4  24.01.2025     Friday            10             2\n",
            "3.8\n"
          ]
        }
      ]
    },
    {
      "cell_type": "code",
      "source": [
        "import pandas as pd\n",
        "data={\n",
        "    \"Tid\":[1,2,3,4,5,6,7,8,9,10],\n",
        "    \"Refund\":[\"Yes\",\"No\",\"No\",\"Yes\",\"No\",\"No\",\"Yes\",\"No\",\"No\",\"No\"],\n",
        "    \"Marital Status\":[\"Single\",\"Married\",\"Single\",\"Married\",\"Divorced\",\"Married\",\"Divorced\",\"Single\",\"Married\",\"Single\"],\n",
        "    \"Taxable income\":[125000,100000,70000,120000,95000,60000,220000,85000,75000,90000],\n",
        "    \"Cheat\":[\"No\",\"No\",\"No\",\"No\",\"Yes\",\"No\",\"No\",\"Yes\",\"No\",\"Yes\"]\n",
        "}\n",
        "df=pd.DataFrame(data)\n",
        "print(df)\n"
      ],
      "metadata": {
        "id": "N0nbEwOQrrNY",
        "colab": {
          "base_uri": "https://localhost:8080/"
        },
        "outputId": "deae77ec-136b-468a-c5a8-ba6b821c9d3f"
      },
      "execution_count": 7,
      "outputs": [
        {
          "output_type": "stream",
          "name": "stdout",
          "text": [
            "   Tid Refund Marital Status  Taxable income Cheat\n",
            "0    1    Yes         Single          125000    No\n",
            "1    2     No        Married          100000    No\n",
            "2    3     No         Single           70000    No\n",
            "3    4    Yes        Married          120000    No\n",
            "4    5     No       Divorced           95000   Yes\n",
            "5    6     No        Married           60000    No\n",
            "6    7    Yes       Divorced          220000    No\n",
            "7    8     No         Single           85000   Yes\n",
            "8    9     No        Married           75000    No\n",
            "9   10     No         Single           90000   Yes\n"
          ]
        }
      ]
    },
    {
      "cell_type": "code",
      "source": [
        "print(df.iloc[[0,4,7,8]])"
      ],
      "metadata": {
        "colab": {
          "base_uri": "https://localhost:8080/"
        },
        "id": "wS1zQQrK6Hwo",
        "outputId": "58687cff-dd2e-46f9-aa5b-bf44aad23284"
      },
      "execution_count": 8,
      "outputs": [
        {
          "output_type": "stream",
          "name": "stdout",
          "text": [
            "   Tid Refund Marital Status  Taxable income Cheat\n",
            "0    1    Yes         Single          125000    No\n",
            "4    5     No       Divorced           95000   Yes\n",
            "7    8     No         Single           85000   Yes\n",
            "8    9     No        Married           75000    No\n"
          ]
        }
      ]
    },
    {
      "cell_type": "code",
      "source": [
        "#3(1)\n",
        "print(df.iloc[3:7])"
      ],
      "metadata": {
        "colab": {
          "base_uri": "https://localhost:8080/"
        },
        "id": "Mlk4gfKA6Pi4",
        "outputId": "f6c2bbf2-20cc-478d-b5e6-81cb283bfd5d"
      },
      "execution_count": 9,
      "outputs": [
        {
          "output_type": "stream",
          "name": "stdout",
          "text": [
            "   Tid Refund Marital Status  Taxable income Cheat\n",
            "3    4    Yes        Married          120000    No\n",
            "4    5     No       Divorced           95000   Yes\n",
            "5    6     No        Married           60000    No\n",
            "6    7    Yes       Divorced          220000    No\n"
          ]
        }
      ]
    },
    {
      "cell_type": "code",
      "source": [
        "#3(2)\n",
        "print(df.iloc[4:8,2:4])#without including 8th row and 4th column\n",
        "print(\"----------------------------------------------------------------------\")\n",
        "print(df.iloc[4:9,2:5])#with 8th row and 4th column"
      ],
      "metadata": {
        "colab": {
          "base_uri": "https://localhost:8080/"
        },
        "id": "MJ37zoFT60Jo",
        "outputId": "59cf2ba9-ecad-435a-f024-d6be7f3f4df0"
      },
      "execution_count": 10,
      "outputs": [
        {
          "output_type": "stream",
          "name": "stdout",
          "text": [
            "  Marital Status  Taxable income\n",
            "4       Divorced           95000\n",
            "5        Married           60000\n",
            "6       Divorced          220000\n",
            "7         Single           85000\n",
            "----------------------------------------------------------------------\n",
            "  Marital Status  Taxable income Cheat\n",
            "4       Divorced           95000   Yes\n",
            "5        Married           60000    No\n",
            "6       Divorced          220000    No\n",
            "7         Single           85000   Yes\n",
            "8        Married           75000    No\n"
          ]
        }
      ]
    },
    {
      "cell_type": "code",
      "source": [
        "#3(3)\n",
        "print(df.iloc[0:,1:4])"
      ],
      "metadata": {
        "colab": {
          "base_uri": "https://localhost:8080/"
        },
        "id": "24X-r3Qp7oW6",
        "outputId": "ff2d3871-0533-4b09-95a8-242f082deba5"
      },
      "execution_count": 11,
      "outputs": [
        {
          "output_type": "stream",
          "name": "stdout",
          "text": [
            "  Refund Marital Status  Taxable income\n",
            "0    Yes         Single          125000\n",
            "1     No        Married          100000\n",
            "2     No         Single           70000\n",
            "3    Yes        Married          120000\n",
            "4     No       Divorced           95000\n",
            "5     No        Married           60000\n",
            "6    Yes       Divorced          220000\n",
            "7     No         Single           85000\n",
            "8     No        Married           75000\n",
            "9     No         Single           90000\n"
          ]
        }
      ]
    },
    {
      "cell_type": "code",
      "source": [
        "df_csv=pd.read_csv('https://raw.githubusercontent.com/mwaskom/seaborn-data/master/iris.csv')\n",
        "print(df_csv.head())"
      ],
      "metadata": {
        "colab": {
          "base_uri": "https://localhost:8080/"
        },
        "id": "OSy4PHjW8L94",
        "outputId": "7945ee80-b590-4a80-dcbc-24d6e8058426"
      },
      "execution_count": 12,
      "outputs": [
        {
          "output_type": "stream",
          "name": "stdout",
          "text": [
            "   sepal_length  sepal_width  petal_length  petal_width species\n",
            "0           5.1          3.5           1.4          0.2  setosa\n",
            "1           4.9          3.0           1.4          0.2  setosa\n",
            "2           4.7          3.2           1.3          0.2  setosa\n",
            "3           4.6          3.1           1.5          0.2  setosa\n",
            "4           5.0          3.6           1.4          0.2  setosa\n"
          ]
        }
      ]
    },
    {
      "cell_type": "code",
      "source": [
        "df_modified = df_csv.drop(index=3).drop(columns=df_csv.columns[2])\n",
        "print(\"Modified DataFrame:\")\n",
        "print(df_modified)"
      ],
      "metadata": {
        "colab": {
          "base_uri": "https://localhost:8080/"
        },
        "id": "Y26-IUnSUGx-",
        "outputId": "de2951ce-ab91-452c-e8cf-cdc02289a4ba"
      },
      "execution_count": 16,
      "outputs": [
        {
          "output_type": "stream",
          "name": "stdout",
          "text": [
            "Modified DataFrame:\n",
            "     sepal_length  sepal_width  petal_width    species\n",
            "0             5.1          3.5          0.2     setosa\n",
            "1             4.9          3.0          0.2     setosa\n",
            "2             4.7          3.2          0.2     setosa\n",
            "4             5.0          3.6          0.2     setosa\n",
            "5             5.4          3.9          0.4     setosa\n",
            "..            ...          ...          ...        ...\n",
            "145           6.7          3.0          2.3  virginica\n",
            "146           6.3          2.5          1.9  virginica\n",
            "147           6.5          3.0          2.0  virginica\n",
            "148           6.2          3.4          2.3  virginica\n",
            "149           5.9          3.0          1.8  virginica\n",
            "\n",
            "[149 rows x 4 columns]\n"
          ]
        }
      ]
    },
    {
      "cell_type": "code",
      "source": [
        "import pandas as pd\n",
        "data={\n",
        "    \"Employee_ID\":[101,102,103,104,105],\n",
        "    \"Name\":[\"Alice\",\"Bob\",\"Charlie\",\"Diana\",\"Edward\"],\n",
        "    \"Department\":[\"HR\",\"IT\",\"IT\",\"Marketing\",\"Sales\"],\n",
        "    \"Age\":[29,34,41,28,38],\n",
        "    \"Salary\":[50000,70000,65000,55000,60000],\n",
        "    \"Years of Experience\":[4,8,10,3,12],\n",
        "    \"Joining_Date\":[\"2020-03-15\",\"2017-07-19\",\"2013-06-01\",\"2021-02-10\",\"2010-11-25\"],\n",
        "    \"Gender\":[\"Female\",\"Male\",\"Male\",\"Female\",\"Male\"],\n",
        "    \"Bonus\":[5000,7000,6000,4500,5000],\n",
        "    \"Rating\":[4.5,4.0,3.8,4.7,3.5]\n",
        "}\n",
        "df=pd.DataFrame(data)\n",
        "print(df)"
      ],
      "metadata": {
        "colab": {
          "base_uri": "https://localhost:8080/"
        },
        "id": "3XUKcMjqVJ1T",
        "outputId": "1af3f162-2e6c-452f-9ad7-459da3a26c8f"
      },
      "execution_count": 18,
      "outputs": [
        {
          "output_type": "stream",
          "name": "stdout",
          "text": [
            "   Employee_ID     Name Department  Age  Salary  Years of Experience  \\\n",
            "0          101    Alice         HR   29   50000                    4   \n",
            "1          102      Bob         IT   34   70000                    8   \n",
            "2          103  Charlie         IT   41   65000                   10   \n",
            "3          104    Diana  Marketing   28   55000                    3   \n",
            "4          105   Edward      Sales   38   60000                   12   \n",
            "\n",
            "  Joining_Date  Gender  Bonus  Rating  \n",
            "0   2020-03-15  Female   5000     4.5  \n",
            "1   2017-07-19    Male   7000     4.0  \n",
            "2   2013-06-01    Male   6000     3.8  \n",
            "3   2021-02-10  Female   4500     4.7  \n",
            "4   2010-11-25    Male   5000     3.5  \n"
          ]
        }
      ]
    },
    {
      "cell_type": "code",
      "source": [
        "#Q6(a)\n",
        "print(\"Shape : \",df.shape)"
      ],
      "metadata": {
        "colab": {
          "base_uri": "https://localhost:8080/"
        },
        "id": "VQ5rizimXK7A",
        "outputId": "c8bb12d9-5953-4058-e973-633ed9744373"
      },
      "execution_count": 19,
      "outputs": [
        {
          "output_type": "stream",
          "name": "stdout",
          "text": [
            "Shape :  (5, 10)\n"
          ]
        }
      ]
    },
    {
      "cell_type": "code",
      "source": [
        "#6(b)\n",
        "print(\"Summary of the Dataframe:\")\n",
        "print(df.info())\n"
      ],
      "metadata": {
        "colab": {
          "base_uri": "https://localhost:8080/"
        },
        "id": "CiWdUnqKXflx",
        "outputId": "9836f2e0-73dd-4818-9cf7-0792b4f2041b"
      },
      "execution_count": 23,
      "outputs": [
        {
          "output_type": "stream",
          "name": "stdout",
          "text": [
            "Summary of the Dataframe:\n",
            "<class 'pandas.core.frame.DataFrame'>\n",
            "RangeIndex: 5 entries, 0 to 4\n",
            "Data columns (total 10 columns):\n",
            " #   Column               Non-Null Count  Dtype  \n",
            "---  ------               --------------  -----  \n",
            " 0   Employee_ID          5 non-null      int64  \n",
            " 1   Name                 5 non-null      object \n",
            " 2   Department           5 non-null      object \n",
            " 3   Age                  5 non-null      int64  \n",
            " 4   Salary               5 non-null      int64  \n",
            " 5   Years of Experience  5 non-null      int64  \n",
            " 6   Joining_Date         5 non-null      object \n",
            " 7   Gender               5 non-null      object \n",
            " 8   Bonus                5 non-null      int64  \n",
            " 9   Rating               5 non-null      float64\n",
            "dtypes: float64(1), int64(5), object(4)\n",
            "memory usage: 532.0+ bytes\n",
            "None\n"
          ]
        }
      ]
    },
    {
      "cell_type": "code",
      "source": [
        "#6(c)\n",
        "print(\"Descriptive Statistics:\")\n",
        "print(df.describe())"
      ],
      "metadata": {
        "colab": {
          "base_uri": "https://localhost:8080/"
        },
        "id": "BGF4TqejX-W1",
        "outputId": "acb4eb35-97b6-4039-b0f2-ca6e7a464255"
      },
      "execution_count": 22,
      "outputs": [
        {
          "output_type": "stream",
          "name": "stdout",
          "text": [
            "Descriptive Statistics:\n",
            "       Employee_ID        Age       Salary  Years of Experience   Bonus  \\\n",
            "count     5.000000   5.000000      5.00000             5.000000     5.0   \n",
            "mean    103.000000  34.000000  60000.00000             7.400000  5500.0   \n",
            "std       1.581139   5.612486   7905.69415             3.847077  1000.0   \n",
            "min     101.000000  28.000000  50000.00000             3.000000  4500.0   \n",
            "25%     102.000000  29.000000  55000.00000             4.000000  5000.0   \n",
            "50%     103.000000  34.000000  60000.00000             8.000000  5000.0   \n",
            "75%     104.000000  38.000000  65000.00000            10.000000  6000.0   \n",
            "max     105.000000  41.000000  70000.00000            12.000000  7000.0   \n",
            "\n",
            "         Rating  \n",
            "count  5.000000  \n",
            "mean   4.100000  \n",
            "std    0.494975  \n",
            "min    3.500000  \n",
            "25%    3.800000  \n",
            "50%    4.000000  \n",
            "75%    4.500000  \n",
            "max    4.700000  \n"
          ]
        }
      ]
    },
    {
      "cell_type": "code",
      "source": [
        "#6(d)\n",
        "#first five rows\n",
        "print(\"First Five Rows:\")\n",
        "print(df.head())#print(df.iloc[0:5])\n",
        "#last three rows\n",
        "print(\"Last Three Rows:\")\n",
        "print(df.tail(3))#print(df.iloc[2:5])"
      ],
      "metadata": {
        "colab": {
          "base_uri": "https://localhost:8080/"
        },
        "id": "SZZBM9vAYPFP",
        "outputId": "1bae7a97-192c-4f94-da43-50a8a98ae3f2"
      },
      "execution_count": 26,
      "outputs": [
        {
          "output_type": "stream",
          "name": "stdout",
          "text": [
            "First Five Rows:\n",
            "   Employee_ID     Name Department  Age  Salary  Years of Experience  \\\n",
            "0          101    Alice         HR   29   50000                    4   \n",
            "1          102      Bob         IT   34   70000                    8   \n",
            "2          103  Charlie         IT   41   65000                   10   \n",
            "3          104    Diana  Marketing   28   55000                    3   \n",
            "4          105   Edward      Sales   38   60000                   12   \n",
            "\n",
            "  Joining_Date  Gender  Bonus  Rating  \n",
            "0   2020-03-15  Female   5000     4.5  \n",
            "1   2017-07-19    Male   7000     4.0  \n",
            "2   2013-06-01    Male   6000     3.8  \n",
            "3   2021-02-10  Female   4500     4.7  \n",
            "4   2010-11-25    Male   5000     3.5  \n",
            "Last Three Rows:\n",
            "   Employee_ID     Name Department  Age  Salary  Years of Experience  \\\n",
            "2          103  Charlie         IT   41   65000                   10   \n",
            "3          104    Diana  Marketing   28   55000                    3   \n",
            "4          105   Edward      Sales   38   60000                   12   \n",
            "\n",
            "  Joining_Date  Gender  Bonus  Rating  \n",
            "2   2013-06-01    Male   6000     3.8  \n",
            "3   2021-02-10  Female   4500     4.7  \n",
            "4   2010-11-25    Male   5000     3.5  \n"
          ]
        }
      ]
    },
    {
      "cell_type": "code",
      "source": [
        "#6(e)\n",
        "#(i) Average salary of employees\n",
        "print(\"Average Salary of Employees:\")\n",
        "print(df[\"Salary\"].mean())\n",
        "#(ii)Total bonus\n",
        "print(\"Total Bonus:\", df[\"Bonus\"].sum())\n",
        "#(iii)Youngest employee\n",
        "print(\"Youngest Employee Age:\", df[\"Age\"].min())\n",
        "#(iv)Employee with highest rating\n",
        "print(\"Highest Rating:\", df[\"Rating\"].max())\n",
        "\n"
      ],
      "metadata": {
        "colab": {
          "base_uri": "https://localhost:8080/"
        },
        "id": "kqe9gZBpZAJl",
        "outputId": "65850e8a-639d-4f11-d15f-97bbe080c411"
      },
      "execution_count": 27,
      "outputs": [
        {
          "output_type": "stream",
          "name": "stdout",
          "text": [
            "Average Salary of Employees:\n",
            "60000.0\n",
            "Total Bonus: 27500\n",
            "Youngest Employee Age: 28\n",
            "Highest Rating: 4.7\n"
          ]
        }
      ]
    },
    {
      "cell_type": "code",
      "source": [
        "#6(f)\n",
        "sorted_df=df.sort_values(by=\"Salary\",ascending=False)\n",
        "print(\"Sorted DataFrame:\")\n",
        "print(sorted_df)"
      ],
      "metadata": {
        "colab": {
          "base_uri": "https://localhost:8080/"
        },
        "id": "-WolCrbHa6m4",
        "outputId": "fb25c698-e54d-4bac-b45a-825a06783cf5"
      },
      "execution_count": 28,
      "outputs": [
        {
          "output_type": "stream",
          "name": "stdout",
          "text": [
            "Sorted DataFrame:\n",
            "   Employee_ID     Name Department  Age  Salary  Years of Experience  \\\n",
            "1          102      Bob         IT   34   70000                    8   \n",
            "2          103  Charlie         IT   41   65000                   10   \n",
            "4          105   Edward      Sales   38   60000                   12   \n",
            "3          104    Diana  Marketing   28   55000                    3   \n",
            "0          101    Alice         HR   29   50000                    4   \n",
            "\n",
            "  Joining_Date  Gender  Bonus  Rating  \n",
            "1   2017-07-19    Male   7000     4.0  \n",
            "2   2013-06-01    Male   6000     3.8  \n",
            "4   2010-11-25    Male   5000     3.5  \n",
            "3   2021-02-10  Female   4500     4.7  \n",
            "0   2020-03-15  Female   5000     4.5  \n"
          ]
        }
      ]
    },
    {
      "cell_type": "code",
      "source": [
        "#6(g)\n",
        "df[\"Performance\"] = pd.cut(df[\"Rating\"],\n",
        "bins=[0, 4.0, 4.5, 5],\n",
        "labels=[\"Average\", \"Good\", \"Excellent\"]\n",
        ")\n",
        "print(df[[\"Name\", \"Performance\"]])"
      ],
      "metadata": {
        "colab": {
          "base_uri": "https://localhost:8080/"
        },
        "id": "QJ0yMrFdbRrR",
        "outputId": "fc853f74-0497-4919-e5ff-36b657bff137"
      },
      "execution_count": 29,
      "outputs": [
        {
          "output_type": "stream",
          "name": "stdout",
          "text": [
            "      Name Performance\n",
            "0    Alice        Good\n",
            "1      Bob     Average\n",
            "2  Charlie     Average\n",
            "3    Diana   Excellent\n",
            "4   Edward     Average\n"
          ]
        }
      ]
    },
    {
      "cell_type": "code",
      "source": [
        "#6(h)\n",
        "print(df.isnull().sum())"
      ],
      "metadata": {
        "colab": {
          "base_uri": "https://localhost:8080/"
        },
        "id": "m_tRaHLObv9k",
        "outputId": "e9e16c66-9ba3-4752-ed58-61cb402a78f0"
      },
      "execution_count": 31,
      "outputs": [
        {
          "output_type": "stream",
          "name": "stdout",
          "text": [
            "Employee_ID            0\n",
            "Name                   0\n",
            "Department             0\n",
            "Age                    0\n",
            "Salary                 0\n",
            "Years of Experience    0\n",
            "Joining_Date           0\n",
            "Gender                 0\n",
            "Bonus                  0\n",
            "Rating                 0\n",
            "Performance            0\n",
            "dtype: int64\n"
          ]
        }
      ]
    },
    {
      "cell_type": "code",
      "source": [
        "#6(i)\n",
        "df.rename(columns={\"Employee_ID\":\"ID\"},inplace=True)\n",
        "print(df)"
      ],
      "metadata": {
        "colab": {
          "base_uri": "https://localhost:8080/"
        },
        "id": "IeWQ0ltEb6_d",
        "outputId": "c9c00b44-9043-4e55-877a-31c903ac8090"
      },
      "execution_count": 32,
      "outputs": [
        {
          "output_type": "stream",
          "name": "stdout",
          "text": [
            "    ID     Name Department  Age  Salary  Years of Experience Joining_Date  \\\n",
            "0  101    Alice         HR   29   50000                    4   2020-03-15   \n",
            "1  102      Bob         IT   34   70000                    8   2017-07-19   \n",
            "2  103  Charlie         IT   41   65000                   10   2013-06-01   \n",
            "3  104    Diana  Marketing   28   55000                    3   2021-02-10   \n",
            "4  105   Edward      Sales   38   60000                   12   2010-11-25   \n",
            "\n",
            "   Gender  Bonus  Rating Performance  \n",
            "0  Female   5000     4.5        Good  \n",
            "1    Male   7000     4.0     Average  \n",
            "2    Male   6000     3.8     Average  \n",
            "3  Female   4500     4.7   Excellent  \n",
            "4    Male   5000     3.5     Average  \n"
          ]
        }
      ]
    },
    {
      "cell_type": "code",
      "source": [
        "#6(j)\n",
        "new_df = df[(df[\"Years of Experience\"] > 5) & (df[\"Department\"] == \"IT\")]\n",
        "print(new_df)"
      ],
      "metadata": {
        "colab": {
          "base_uri": "https://localhost:8080/"
        },
        "id": "fH7NX0N0cb27",
        "outputId": "18fd1dac-7ea5-44bb-b636-f53c96763f38"
      },
      "execution_count": 36,
      "outputs": [
        {
          "output_type": "stream",
          "name": "stdout",
          "text": [
            "    ID     Name Department  Age  Salary  Years of Experience Joining_Date  \\\n",
            "1  102      Bob         IT   34   70000                    8   2017-07-19   \n",
            "2  103  Charlie         IT   41   65000                   10   2013-06-01   \n",
            "\n",
            "  Gender  Bonus  Rating Performance  \n",
            "1   Male   7000     4.0     Average  \n",
            "2   Male   6000     3.8     Average  \n"
          ]
        }
      ]
    },
    {
      "cell_type": "code",
      "source": [
        "#6(k)\n",
        "df[\"Tax\"] = df[\"Salary\"] * 0.1\n",
        "print(df)"
      ],
      "metadata": {
        "colab": {
          "base_uri": "https://localhost:8080/"
        },
        "id": "5Lf7kkN3c2XG",
        "outputId": "2c531953-5058-451c-c824-0d483bfc05a8"
      },
      "execution_count": 37,
      "outputs": [
        {
          "output_type": "stream",
          "name": "stdout",
          "text": [
            "    ID     Name Department  Age  Salary  Years of Experience Joining_Date  \\\n",
            "0  101    Alice         HR   29   50000                    4   2020-03-15   \n",
            "1  102      Bob         IT   34   70000                    8   2017-07-19   \n",
            "2  103  Charlie         IT   41   65000                   10   2013-06-01   \n",
            "3  104    Diana  Marketing   28   55000                    3   2021-02-10   \n",
            "4  105   Edward      Sales   38   60000                   12   2010-11-25   \n",
            "\n",
            "   Gender  Bonus  Rating Performance     Tax  \n",
            "0  Female   5000     4.5        Good  5000.0  \n",
            "1    Male   7000     4.0     Average  7000.0  \n",
            "2    Male   6000     3.8     Average  6500.0  \n",
            "3  Female   4500     4.7   Excellent  5500.0  \n",
            "4    Male   5000     3.5     Average  6000.0  \n"
          ]
        }
      ]
    },
    {
      "cell_type": "code",
      "source": [
        "df.to_csv(\"Our_Employees.csv\", index=False)\n",
        "print(\"DataFrame saved to 'Our_Employees.csv'\")"
      ],
      "metadata": {
        "colab": {
          "base_uri": "https://localhost:8080/"
        },
        "id": "DiI-3qR6dIon",
        "outputId": "28d612b4-7285-4880-ee97-11530acdd29b"
      },
      "execution_count": 38,
      "outputs": [
        {
          "output_type": "stream",
          "name": "stdout",
          "text": [
            "DataFrame saved to 'Our_Employees.csv'\n"
          ]
        }
      ]
    }
  ]
}