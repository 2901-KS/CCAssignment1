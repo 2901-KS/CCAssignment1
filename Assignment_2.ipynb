{
  "metadata": {
    "kernelspec": {
      "name": "python",
      "display_name": "Python (Pyodide)",
      "language": "python"
    },
    "language_info": {
      "codemirror_mode": {
        "name": "python",
        "version": 3
      },
      "file_extension": ".py",
      "mimetype": "text/x-python",
      "name": "python",
      "nbconvert_exporter": "python",
      "pygments_lexer": "ipython3",
      "version": "3.8"
    }
  },
  "nbformat_minor": 5,
  "nbformat": 4,
  "cells": [
    {
      "id": "418db95c-910d-471e-aef8-4f5e48a777da",
      "cell_type": "code",
      "source": "L = [10, 20, 30, 40, 50, 60, 70, 80]\nL.append(200)\nL.append(300)\nprint(\"After adding 200 and 300:\", L)\nL.remove(10)\nL.remove(30)\nprint(\"After removing 10 and 30:\", L)\nL.sort()\nprint(\"Sorted in ascending order:\", L)\nL.sort(reverse=True)\nprint(\"Sorted in descending order:\", L)",
      "metadata": {
        "trusted": true
      },
      "outputs": [
        {
          "name": "stdout",
          "output_type": "stream",
          "text": "After adding 200 and 300: [10, 20, 30, 40, 50, 60, 70, 80, 200, 300]\nAfter removing 10 and 30: [20, 40, 50, 60, 70, 80, 200, 300]\nSorted in ascending order: [20, 40, 50, 60, 70, 80, 200, 300]\nSorted in descending order: [300, 200, 80, 70, 60, 50, 40, 20]\n"
        }
      ],
      "execution_count": 2
    },
    {
      "id": "73c5b752-dded-4773-9aa9-06084401a2b4",
      "cell_type": "code",
      "source": "scores = (45, 89.5, 76, 45.4, 89, 92, 58, 45)\nhighest_score = max(scores)\nhighest_index = scores.index(highest_score)\nprint(\"Highest score:\", highest_score, \"at index\", highest_index)\nlowest_score = min(scores)\nlowest_count = scores.count(lowest_score)\nprint(\"Lowest score:\", lowest_score, \"appears\", lowest_count, \"time(s)\")\nreversed_list = list(reversed(scores))\nprint(\"Reversed tuple as list:\", reversed_list)\nscore_to_check = 76\nif score_to_check in scores:\n    print(\"Score\", score_to_check, \"found at index\", scores.index(score_to_check))\nelse:\n    print(\"Score\", score_to_check, \"is not present in the tuple.\")\n",
      "metadata": {
        "trusted": true
      },
      "outputs": [
        {
          "name": "stdout",
          "output_type": "stream",
          "text": "Highest score: 92 at index 5\nLowest score: 45 appears 2 time(s)\nReversed tuple as list: [45, 58, 92, 89, 45.4, 76, 89.5, 45]\nScore 76 found at index 2\n"
        }
      ],
      "execution_count": 4
    },
    {
      "id": "9823ffc1-49e4-438e-9cbb-b892f202e0d4",
      "cell_type": "code",
      "source": "import random\nrandom_numbers = [random.randint(100, 900) for _ in range(100)]\n\nodd_numbers = [num for num in random_numbers if num % 2 != 0]\neven_numbers = [num for num in random_numbers if num % 2 == 0]\n\ndef is_prime(n):\n        if n < 2:\n            return False\n        for i in range(2, int(n ** 0.5) + 1):\n            if n % i == 0:\n                return False\n        return True\n\nprime_numbers = [num for num in random_numbers if is_prime(num)]\n\nprint(\"Odd numbers:\", odd_numbers)\nprint(\"Even numbers:\", even_numbers)\nprint(\"Prime numbers:\", prime_numbers)\n",
      "metadata": {
        "trusted": true
      },
      "outputs": [
        {
          "name": "stdout",
          "output_type": "stream",
          "text": "Odd numbers: [577, 195, 571, 229, 233, 237, 229, 189, 745, 523, 337, 555, 111, 641, 103, 857, 683, 313, 221, 687, 661, 187, 829, 307, 399, 339, 607, 233, 649, 255, 685, 543, 493, 421, 161, 637, 545, 461, 257, 217, 127, 857, 343, 373, 369, 295, 343, 265, 639, 101, 889, 887, 699, 235]\nEven numbers: [296, 892, 516, 234, 506, 466, 872, 842, 410, 286, 588, 706, 548, 450, 708, 304, 218, 234, 538, 480, 608, 590, 240, 136, 232, 552, 866, 298, 678, 146, 104, 446, 562, 550, 242, 192, 244, 616, 442, 740, 390, 344, 494, 340, 382, 686]\nPrime numbers: [577, 571, 229, 233, 229, 523, 337, 641, 103, 857, 683, 313, 661, 829, 307, 607, 233, 421, 461, 257, 127, 857, 373, 101, 887]\n"
        }
      ],
      "execution_count": 5
    },
    {
      "id": "7a268d88-be38-461f-8bca-ccb3fba67286",
      "cell_type": "code",
      "source": "A = {34, 56, 78, 90}\nB = {78, 45, 90, 23}\nunion_scores = A.union(B)\nprint(\"Union of A and B:\", union_scores)\nintersection_scores = A.intersection(B)\nprint(\"Intersection of A and B:\", intersection_scores)\nsymmetric_difference_scores = A.symmetric_difference(B)\nprint(\"Symmetric difference of A and B:\", symmetric_difference_scores)\nis_A_subset = A.issubset(B)\nis_B_superset = B.issuperset(A)\nprint(\"Is A a subset of B:\", is_A_subset)\nprint(\"Is B a superset of A:\", is_B_superset)\nX = 45\nif X in A:\n        A.remove(X)\n        print(f\"Score {X} removed from A.\")\nelse:\n        print(f\"Score {X} is not present in A.\")\nprint(\"Updated set A:\", A)",
      "metadata": {
        "trusted": true
      },
      "outputs": [
        {
          "name": "stdout",
          "output_type": "stream",
          "text": "Union of A and B: {34, 45, 78, 23, 56, 90}\nIntersection of A and B: {90, 78}\nSymmetric difference of A and B: {34, 45, 23, 56}\nIs A a subset of B: False\nIs B a superset of A: False\nScore 45 is not present in A.\nUpdated set A: {56, 34, 90, 78}\n"
        }
      ],
      "execution_count": 7
    },
    {
      "id": "748b150e-a32d-4dee-a115-976b618f50a9",
      "cell_type": "code",
      "source": "cities = {\"city\": \"New York\", \"population\": 8500000, \"area\": 468}\ncities[\"location\"] = cities.pop(\"city\")\nprint(\"Updated dictionary:\", cities)",
      "metadata": {
        "trusted": true
      },
      "outputs": [
        {
          "name": "stdout",
          "output_type": "stream",
          "text": "Updated dictionary: {'population': 8500000, 'area': 468, 'location': 'New York'}\n"
        }
      ],
      "execution_count": 8
    },
    {
      "id": "d1b9a9b9-b371-4635-ad5b-98dbd477c915",
      "cell_type": "code",
      "source": "",
      "metadata": {
        "trusted": true
      },
      "outputs": [],
      "execution_count": null
    }
  ]
}